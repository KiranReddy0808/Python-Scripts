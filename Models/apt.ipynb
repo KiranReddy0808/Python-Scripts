{
 "cells": [
  {
   "cell_type": "code",
   "execution_count": 182,
   "metadata": {},
   "outputs": [
    {
     "name": "stderr",
     "output_type": "stream",
     "text": [
      "[*********************100%***********************]  1 of 1 completed\n",
      "[*********************100%***********************]  1 of 1 completed"
     ]
    },
    {
     "name": "stdout",
     "output_type": "stream",
     "text": [
      "                  Open        High         Low       Close   Adj Close  \\\n",
      "Date                                                                     \n",
      "2009-01-01  902.989990  943.849976  899.349976  906.650024  906.650024   \n",
      "2009-01-08  905.729980  911.929993  836.929993  842.619995  842.619995   \n",
      "2009-01-15  841.989990  858.130005  804.299988  840.239990  840.239990   \n",
      "2009-01-22  839.739990  877.859985  806.070007  874.090027  874.090027   \n",
      "2009-01-29  868.890015  868.890015  812.869995  832.229980  832.229980   \n",
      "\n",
      "                 Volume  \n",
      "Date                     \n",
      "2009-01-01  19559740000  \n",
      "2009-01-08  25408440000  \n",
      "2009-01-15  27436450000  \n",
      "2009-01-22  29268370000  \n",
      "2009-01-29  28397670000  \n",
      "                   Open         High          Low        Close    Adj Close  \\\n",
      "Date                                                                          \n",
      "2009-01-01  1578.869995  1665.630005  1571.979980  1599.060059  1599.060059   \n",
      "2009-01-08  1590.250000  1617.260010  1485.260010  1489.640015  1489.640015   \n",
      "2009-01-15  1489.459961  1538.819946  1440.859985  1507.069946  1507.069946   \n",
      "2009-01-22  1470.849976  1568.329956  1434.079956  1558.339966  1558.339966   \n",
      "2009-01-29  1537.469971  1549.640015  1460.510010  1515.050049  1515.050049   \n",
      "\n",
      "                 Volume  \n",
      "Date                     \n",
      "2009-01-01   7412800000  \n",
      "2009-01-08   9524690000  \n",
      "2009-01-15   8852630000  \n",
      "2009-01-22  10218790000  \n",
      "2009-01-29  10220660000  \n"
     ]
    },
    {
     "name": "stderr",
     "output_type": "stream",
     "text": [
      "\n"
     ]
    }
   ],
   "source": [
    "import yfinance as yf\n",
    "\n",
    "start_date = '2009-01-01'\n",
    "end_date = '2019-01-01'\n",
    "\n",
    "sp500_data = yf.download('^GSPC', start = start_date, end = end_date, interval='1wk' )\n",
    "nasdaq_data = yf.download('^IXIC', start = start_date, end = end_date, interval='1wk' )\n",
    "print(sp500_data.head())\n",
    "print(nasdaq_data.head())"
   ]
  },
  {
   "cell_type": "code",
   "execution_count": 183,
   "metadata": {},
   "outputs": [
    {
     "name": "stdout",
     "output_type": "stream",
     "text": [
      "rf_rate\n",
      "inflation_rate\n",
      "risk_premium\n",
      "gdp_growth\n"
     ]
    }
   ],
   "source": [
    "import pandas as pd\n",
    "import numpy as np\n",
    "import requests\n",
    "\n",
    "api_key = \"b4821cc094d8c47919698af6f79cbfdd\"\n",
    "\n",
    "base_url = \"https://api.stlouisfed.org/fred/series/observations\"\n",
    "\n",
    "factors = {\n",
    "    \"rf_rate\" : {\n",
    "        \"series_id\": \"DGS5\",\n",
    "        \"units\" : \"lin\",\n",
    "        \"frequency\" : \"w\"\n",
    "    },\n",
    "    \"inflation_rate\" : {\n",
    "        \"series_id\": \"T5YIE\",\n",
    "        \"units\" : \"pch\",\n",
    "        \"frequency\": \"w\"\n",
    "    },\n",
    "    # \"industrial_production\" : {\n",
    "    #     \"series_id\": \"INDPRO\",\n",
    "    #     \"units\" : \"pch\",\n",
    "    #     \"frequency\": \"m\"\n",
    "    # },\n",
    "    \"risk_premium\" : {\n",
    "        \"series_id\": \"TENEXPCHAREARISPRE\",\n",
    "        \"units\" : \"pch\",\n",
    "        \"frequency\": \"m\"\n",
    "    },\n",
    "    \"gdp_growth\" : {\n",
    "        \"series_id\": \"GDPC1\",\n",
    "        \"units\" : \"pch\",\n",
    "        \"frequency\": \"q\"\n",
    "    }\n",
    "}\n",
    "for factor, data in factors.items():\n",
    "    response = requests.request(\"GET\", base_url, params = {\n",
    "        \"api_key\" : api_key,\n",
    "        \"series_id\" : data['series_id'],\n",
    "        \"file_type\" : \"json\",\n",
    "        \"observation_start\" : start_date,\n",
    "        \"observation_end\" : end_date,\n",
    "        \"units\" : data['units'],\n",
    "        \"frequency\" : data['frequency']\n",
    "    } )\n",
    "    print(factor)\n",
    "    factors[factor] = pd.DataFrame.from_dict(response.json()['observations'])[[\"date\", \"value\"]]\n",
    "    factors[factor]['date'] = pd.to_datetime(factors[factor]['date'])\n",
    "    factors[factor]['value'] = factors[factor]['value'].replace('.', np.nan)\n",
    "    factors[factor] = factors[factor].dropna()\n",
    "    factors[factor].set_index('date', inplace=True)\n",
    "    factors[factor]['value'] = pd.to_numeric(factors[factor]['value']).astype(float)/100\n",
    "    factors[factor] = factors[factor].reindex(sp500_data.index, method='ffill')"
   ]
  },
  {
   "cell_type": "code",
   "execution_count": 184,
   "metadata": {},
   "outputs": [],
   "source": [
    "\n",
    "    \n",
    "sp500_data['Returns'] = sp500_data['Adj Close'].pct_change()\n",
    "nasdaq_data['Returns'] = nasdaq_data['Adj Close'].pct_change()\n",
    "\n",
    "sp500_data['Excess_Returns'] = sp500_data['Returns'] - factors['rf_rate']['value']\n",
    "nasdaq_data['Excess_Returns'] = nasdaq_data['Returns'] - factors['rf_rate']['value']\n",
    "\n",
    "\n",
    "# Assume you have economic factor returns in a DataFrame called factors_data\n",
    "factors_data = pd.DataFrame({\n",
    "    'inflation_rate': factors['inflation_rate']['value'],\n",
    "    # 'industrial_production': factors['industrial_production']['value'],\n",
    "    'risk_premium': factors['risk_premium']['value'],\n",
    "    'gdp_growth': factors['gdp_growth']['value']\n",
    "}, index=sp500_data.index)"
   ]
  },
  {
   "cell_type": "code",
   "execution_count": 185,
   "metadata": {},
   "outputs": [],
   "source": [
    "import statsmodels.api as sm\n",
    "\n",
    "# Ensure both datasets align in terms of dates\n",
    "combined_data = pd.concat([sp500_data['Excess_Returns'].rename('S&P500'), nasdaq_data['Excess_Returns'].rename('NASDAQ'), factors_data], axis=1).dropna()\n",
    "\n",
    "# Set up the independent (X) and dependent (Y) variables\n",
    "X = combined_data[[ 'inflation_rate', \"risk_premium\", \"gdp_growth\"]]  # Add more factors as columns\n",
    "Y_1 = combined_data['S&P500']  \n",
    "Y_2 = combined_data['NASDAQ']\n",
    "\n",
    "# Add a constant term for the regression (intercept)\n",
    "X = sm.add_constant(X)"
   ]
  },
  {
   "cell_type": "code",
   "execution_count": 186,
   "metadata": {},
   "outputs": [
    {
     "name": "stdout",
     "output_type": "stream",
     "text": [
      "                            OLS Regression Results                            \n",
      "==============================================================================\n",
      "Dep. Variable:                 S&P500   R-squared:                       0.006\n",
      "Model:                            OLS   Adj. R-squared:                 -0.000\n",
      "Method:                 Least Squares   F-statistic:                    0.9952\n",
      "Date:                Wed, 25 Sep 2024   Prob (F-statistic):              0.395\n",
      "Time:                        13:44:08   Log-Likelihood:                 1246.5\n",
      "No. Observations:                 521   AIC:                            -2485.\n",
      "Df Residuals:                     517   BIC:                            -2468.\n",
      "Df Model:                           3                                         \n",
      "Covariance Type:            nonrobust                                         \n",
      "==================================================================================\n",
      "                     coef    std err          t      P>|t|      [0.025      0.975]\n",
      "----------------------------------------------------------------------------------\n",
      "const             -0.0161      0.001    -10.934      0.000      -0.019      -0.013\n",
      "inflation_rate    -0.0015      0.006     -0.261      0.794      -0.013       0.010\n",
      "risk_premium      -0.0237      0.030     -0.782      0.435      -0.083       0.036\n",
      "gdp_growth         0.3053      0.209      1.459      0.145      -0.106       0.716\n",
      "==============================================================================\n",
      "Omnibus:                       55.936   Durbin-Watson:                   1.986\n",
      "Prob(Omnibus):                  0.000   Jarque-Bera (JB):              181.799\n",
      "Skew:                          -0.465   Prob(JB):                     3.33e-40\n",
      "Kurtosis:                       5.740   Cond. No.                         215.\n",
      "==============================================================================\n",
      "\n",
      "Notes:\n",
      "[1] Standard Errors assume that the covariance matrix of the errors is correctly specified.\n"
     ]
    }
   ],
   "source": [
    "# Fit the OLS regression model\n",
    "model_1 = sm.OLS(Y_1, X).fit()\n",
    "\n",
    "# Print the results\n",
    "print(model_1.summary())"
   ]
  },
  {
   "cell_type": "code",
   "execution_count": 187,
   "metadata": {},
   "outputs": [
    {
     "name": "stdout",
     "output_type": "stream",
     "text": [
      "                            OLS Regression Results                            \n",
      "==============================================================================\n",
      "Dep. Variable:                 NASDAQ   R-squared:                       0.003\n",
      "Model:                            OLS   Adj. R-squared:                 -0.003\n",
      "Method:                 Least Squares   F-statistic:                    0.5049\n",
      "Date:                Wed, 25 Sep 2024   Prob (F-statistic):              0.679\n",
      "Time:                        13:44:08   Log-Likelihood:                 1191.1\n",
      "No. Observations:                 521   AIC:                            -2374.\n",
      "Df Residuals:                     517   BIC:                            -2357.\n",
      "Df Model:                           3                                         \n",
      "Covariance Type:            nonrobust                                         \n",
      "==================================================================================\n",
      "                     coef    std err          t      P>|t|      [0.025      0.975]\n",
      "----------------------------------------------------------------------------------\n",
      "const             -0.0148      0.002     -9.049      0.000      -0.018      -0.012\n",
      "inflation_rate    -0.0007      0.007     -0.114      0.909      -0.014       0.012\n",
      "risk_premium      -0.0243      0.034     -0.720      0.472      -0.091       0.042\n",
      "gdp_growth         0.2205      0.233      0.948      0.344      -0.237       0.678\n",
      "==============================================================================\n",
      "Omnibus:                       63.580   Durbin-Watson:                   2.054\n",
      "Prob(Omnibus):                  0.000   Jarque-Bera (JB):              129.632\n",
      "Skew:                          -0.697   Prob(JB):                     7.09e-29\n",
      "Kurtosis:                       5.007   Cond. No.                         215.\n",
      "==============================================================================\n",
      "\n",
      "Notes:\n",
      "[1] Standard Errors assume that the covariance matrix of the errors is correctly specified.\n"
     ]
    }
   ],
   "source": [
    "model_2 = sm.OLS(Y_2, X).fit()\n",
    "print(model_2.summary())"
   ]
  }
 ],
 "metadata": {
  "kernelspec": {
   "display_name": "Python 3 (ipykernel)",
   "language": "python",
   "name": "python3"
  }
 },
 "nbformat": 4,
 "nbformat_minor": 2
}
